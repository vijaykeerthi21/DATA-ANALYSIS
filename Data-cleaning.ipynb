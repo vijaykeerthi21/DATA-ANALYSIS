{
  "nbformat": 4,
  "nbformat_minor": 0,
  "metadata": {
    "colab": {
      "provenance": [],
      "authorship_tag": "ABX9TyP3Pv5cXU5kXc8C19BQXecV",
      "include_colab_link": true
    },
    "kernelspec": {
      "name": "python3",
      "display_name": "Python 3"
    },
    "language_info": {
      "name": "python"
    }
  },
  "cells": [
    {
      "cell_type": "markdown",
      "metadata": {
        "id": "view-in-github",
        "colab_type": "text"
      },
      "source": [
        "<a href=\"https://colab.research.google.com/github/vijaykeerthi21/DATA-CLEANING/blob/main/Data-cleaning.ipynb\" target=\"_parent\"><img src=\"https://colab.research.google.com/assets/colab-badge.svg\" alt=\"Open In Colab\"/></a>"
      ]
    },
    {
      "cell_type": "code",
      "source": [
        "import numpy as np\n",
        "import pandas as pd"
      ],
      "metadata": {
        "id": "CFkSAGFiLL09"
      },
      "execution_count": null,
      "outputs": []
    },
    {
      "cell_type": "code",
      "source": [
        "#To Read a CSV file and assign the data to Df\n",
        "#To avoid errors encoding ='unicode_escape' is used\n",
        "df = pd.read_csv(r'/content/crop_production.csv', encoding ='unicode_escape')"
      ],
      "metadata": {
        "id": "U6r9AKM1yrs2"
      },
      "execution_count": null,
      "outputs": []
    },
    {
      "cell_type": "markdown",
      "source": [
        "DATA CLEANING"
      ],
      "metadata": {
        "id": "X9hx468H3xVp"
      }
    },
    {
      "cell_type": "markdown",
      "source": [
        "Data cleaning is all about handling the data like identifying the missing values like null values and droping those null values or replacing it with median.And also for Dealing with Duplicates"
      ],
      "metadata": {
        "id": "VpMpR9b2oM7p"
      }
    },
    {
      "cell_type": "code",
      "source": [
        "df.shape\n",
        "#Returns Number of(Row and Columns)\n"
      ],
      "metadata": {
        "id": "hMdSbHO-0zQb"
      },
      "execution_count": null,
      "outputs": []
    },
    {
      "cell_type": "code",
      "source": [
        "#To access first 5 rows of data from dataframe(df)\n",
        "df.head()"
      ],
      "metadata": {
        "id": "nnpnu5Tc05HO"
      },
      "execution_count": null,
      "outputs": []
    },
    {
      "cell_type": "code",
      "source": [
        "#it gives a brief about data in df\n",
        "#ex : column names, null values,count,data_types\n",
        "df.info()"
      ],
      "metadata": {
        "id": "kXvBzBdn1Csq"
      },
      "execution_count": null,
      "outputs": []
    },
    {
      "cell_type": "code",
      "source": [
        "#it returns number of duplicates values in df\n",
        "df.duplicated().sum()"
      ],
      "metadata": {
        "id": "L-k6Kd4ljZPN"
      },
      "execution_count": null,
      "outputs": []
    },
    {
      "cell_type": "code",
      "source": [
        "df =df.drop_duplicates(keep =False)"
      ],
      "metadata": {
        "id": "II3q5DPSsNGI"
      },
      "execution_count": null,
      "outputs": []
    },
    {
      "cell_type": "code",
      "source": [
        "#To see the name of the columns in df\n",
        "df.columns"
      ],
      "metadata": {
        "id": "S6_Hxk3PQPR3"
      },
      "execution_count": null,
      "outputs": []
    },
    {
      "cell_type": "code",
      "source": [
        "#TO return null values in df by True or False\n",
        "pd.isnull(df)"
      ],
      "metadata": {
        "id": "D_fFgYUImEFk"
      },
      "execution_count": null,
      "outputs": []
    },
    {
      "cell_type": "code",
      "source": [
        "#it returns number of Null values in df\n",
        "pd.isnull(df).sum()"
      ],
      "metadata": {
        "id": "j6z_A2gzLlbJ"
      },
      "execution_count": null,
      "outputs": []
    },
    {
      "cell_type": "code",
      "source": [
        "#to delete those null values\n",
        "df.dropna(inplace = True)\n",
        "# or we can assign to a new variable with (=)operator"
      ],
      "metadata": {
        "id": "eKLADJmr12b9"
      },
      "execution_count": null,
      "outputs": []
    },
    {
      "cell_type": "code",
      "source": [
        " # Replace NaN values with the mean of the column\n",
        "  # df.fillna(df.mean(), inplace=True)"
      ],
      "metadata": {
        "id": "G4WZHUsfLoVK"
      },
      "execution_count": null,
      "outputs": []
    },
    {
      "cell_type": "code",
      "source": [
        "# To change the data type of a column\n",
        "df['Production']=df['Production'].astype('int')"
      ],
      "metadata": {
        "id": "6MCDsBdy2rEd"
      },
      "execution_count": null,
      "outputs": []
    },
    {
      "cell_type": "code",
      "source": [
        "#to check whether its changed or not\n",
        "df['Production'].dtypes"
      ],
      "metadata": {
        "id": "ctfiHuSJ2-L1"
      },
      "execution_count": null,
      "outputs": []
    },
    {
      "cell_type": "code",
      "source": [
        "df = df.groupby(['State_Name', 'District_Name','Crop_Year','Season','Crop']).agg({'Production':'sum','Area':'sum'})"
      ],
      "metadata": {
        "id": "h37dCkUbQf54"
      },
      "execution_count": null,
      "outputs": []
    },
    {
      "cell_type": "code",
      "source": [
        "df.head()"
      ],
      "metadata": {
        "id": "CqHNpWMoRjAq"
      },
      "execution_count": null,
      "outputs": []
    },
    {
      "cell_type": "markdown",
      "source": [
        "Conclusion :This is how we can clear and clean null values or replace with another values , Data cleaning"
      ],
      "metadata": {
        "id": "Hgya94243-Wk"
      }
    },
    {
      "cell_type": "code",
      "source": [],
      "metadata": {
        "id": "QrhC96Hpvl78"
      },
      "execution_count": null,
      "outputs": []
    }
  ]
}